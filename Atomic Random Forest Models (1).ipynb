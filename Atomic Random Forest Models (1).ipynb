{
 "cells": [
  {
   "cell_type": "code",
   "execution_count": 1,
   "metadata": {},
   "outputs": [
    {
     "name": "stderr",
     "output_type": "stream",
     "text": [
      "G:\\Anaconda3\\lib\\site-packages\\sklearn\\cross_validation.py:41: DeprecationWarning: This module was deprecated in version 0.18 in favor of the model_selection module into which all the refactored classes and functions are moved. Also note that the interface of the new CV iterators are different from that of this module. This module will be removed in 0.20.\n",
      "  \"This module will be removed in 0.20.\", DeprecationWarning)\n"
     ]
    }
   ],
   "source": [
    "import pandas as pd\n",
    "import numpy as np\n",
    "from sklearn.cluster import KMeans\n",
    "from sklearn.preprocessing import LabelEncoder\n",
    "from sklearn.preprocessing import MinMaxScaler\n",
    "from sklearn.model_selection import train_test_split\n",
    "import seaborn as sns\n",
    "import matplotlib.pyplot as plt\n",
    "%matplotlib inline\n",
    "from scipy import stats\n",
    "from sklearn.cluster import KMeans \n",
    "from sklearn import metrics \n",
    "from scipy.spatial.distance import cdist \n",
    "from sklearn.cross_validation import train_test_split\n",
    "from sklearn.linear_model import LogisticRegression\n",
    "from sklearn import metrics\n",
    "from sklearn import tree\n",
    "import graphviz\n",
    "import os\n",
    "os.environ[\"PATH\"] += os.pathsep + 'F:/Data Analytics-MS!/Integrated Experiential Learn/Week 5 & 6/release/bin'\n",
    "import warnings\n",
    "warnings.filterwarnings('ignore')\n",
    "from sklearn.ensemble import RandomForestRegressor\n",
    "from sklearn.ensemble import RandomForestClassifier\n",
    "from sklearn.model_selection import train_test_split\n",
    "from sklearn.metrics import classification_report, confusion_matrix, accuracy_score\n",
    "from sklearn.metrics import recall_score"
   ]
  },
  {
   "cell_type": "code",
   "execution_count": 2,
   "metadata": {
    "collapsed": true
   },
   "outputs": [],
   "source": [
    "df1 = pd.read_csv('F:/Data Analytics-MS!/Integrated Experiential Learn/Week 5 & 6/indicator_pairs_data updated.csv')\n",
    "df2 = pd.read_csv('F:/Data Analytics-MS!/Integrated Experiential Learn/Week 5 & 6/obfuscated_demo_data2.csv')"
   ]
  },
  {
   "cell_type": "code",
   "execution_count": 3,
   "metadata": {
    "collapsed": true
   },
   "outputs": [],
   "source": [
    "df = pd.merge(df1, df2, on='employee_id', how = 'inner')"
   ]
  },
  {
   "cell_type": "code",
   "execution_count": 4,
   "metadata": {},
   "outputs": [
    {
     "data": {
      "text/plain": [
       "(132084, 23)"
      ]
     },
     "execution_count": 4,
     "metadata": {},
     "output_type": "execute_result"
    }
   ],
   "source": [
    "df.shape"
   ]
  },
  {
   "cell_type": "code",
   "execution_count": 5,
   "metadata": {
    "collapsed": true
   },
   "outputs": [],
   "source": [
    "condition = df['alert_category']=='Atomic'\n",
    "df = df[condition]"
   ]
  },
  {
   "cell_type": "code",
   "execution_count": 6,
   "metadata": {},
   "outputs": [
    {
     "data": {
      "text/plain": [
       "(92594, 23)"
      ]
     },
     "execution_count": 6,
     "metadata": {},
     "output_type": "execute_result"
    }
   ],
   "source": [
    "df.shape"
   ]
  },
  {
   "cell_type": "code",
   "execution_count": 23,
   "metadata": {},
   "outputs": [
    {
     "data": {
      "text/plain": [
       "FP         53369\n",
       "TP/DE      36300\n",
       "TP/LOW      2702\n",
       "TP/HIGH      223\n",
       "Name: classification, dtype: int64"
      ]
     },
     "execution_count": 23,
     "metadata": {},
     "output_type": "execute_result"
    }
   ],
   "source": [
    "df['classification'].value_counts()"
   ]
  },
  {
   "cell_type": "code",
   "execution_count": 7,
   "metadata": {
    "collapsed": true
   },
   "outputs": [],
   "source": [
    "df['Dates'] = pd.to_datetime(df['ge_hire_date']).dt.date\n",
    "df['Time'] = pd.to_datetime(df['ge_hire_date']).dt.time\n",
    "df['year'] = pd.DatetimeIndex(df['Dates']).year\n",
    "df['Tenure'] = df.apply(lambda row: 2020 - row.year, axis = 1) \n",
    "df['year'] = df['year'].fillna(0).astype(int)\n",
    "df['Tenure'] = df['Tenure'].fillna(0).astype(int)"
   ]
  },
  {
   "cell_type": "code",
   "execution_count": 8,
   "metadata": {
    "collapsed": true
   },
   "outputs": [],
   "source": [
    "df = df.drop(['alert_id_fk', 'insert_date', 'employee_id', 'score', 'alert_escalation_date', 'ge_hire_date', 'city', 'state_name', 'country_name', 'alert_type', 'alert_category', 'risk_factor', 'avg_score', 'year', 'Time', 'Dates'], axis=1)"
   ]
  },
  {
   "cell_type": "code",
   "execution_count": 9,
   "metadata": {
    "collapsed": true
   },
   "outputs": [],
   "source": [
    "df_rf = df.copy()\n",
    "df_rf2 = df.copy()"
   ]
  },
  {
   "cell_type": "code",
   "execution_count": 10,
   "metadata": {
    "collapsed": true
   },
   "outputs": [],
   "source": [
    "#Splitting indicator column into multiple columns\n",
    "df_rf[['indicator_pairs', '1', '2', '3', '4', '5', '6', '7', '8']] = df_rf.indicator_pairs.str.split(\"/\",expand=True)"
   ]
  },
  {
   "cell_type": "code",
   "execution_count": 29,
   "metadata": {
    "collapsed": true
   },
   "outputs": [],
   "source": [
    "export_csv = df_rf.to_csv (r'F:\\Data Analytics-MS!\\Integrated Experiential Learn\\Final Submissions\\atomic_alerts_2.csv', index = None, header=True)"
   ]
  },
  {
   "cell_type": "code",
   "execution_count": 11,
   "metadata": {},
   "outputs": [
    {
     "name": "stdout",
     "output_type": "stream",
     "text": [
      "[[23076    14]\n",
      " [   41    18]]\n",
      "             precision    recall  f1-score   support\n",
      "\n",
      "          0       1.00      1.00      1.00     23090\n",
      "          1       0.56      0.31      0.40        59\n",
      "\n",
      "avg / total       1.00      1.00      1.00     23149\n",
      "\n",
      "0.997624087434\n"
     ]
    }
   ],
   "source": [
    "#Using Indicators as well\n",
    "\n",
    "#split dataset in features and target variable\n",
    "feature_cols = ['owner_name', 'hru', 'person_type', 'person_status', 'Tenure', 'function_group', 'career_band', 'job_function', 'industry_focus_name', 'indicator_pairs', '1', '2', '3', '4', '5', '6', '7', '8']\n",
    "df_rf['classification'] = np.where((df_rf['classification'] == 'TP/HIGH'), 1, 0)\n",
    "X1 = df_rf[feature_cols] # Features\n",
    "y1 = df_rf.classification #Target Variable\n",
    "\n",
    "#One-hot Encoding\n",
    "X1 = pd.get_dummies(X1)\n",
    "\n",
    "#Splitting into training and testing sets\n",
    "X_train1,X_test1,y_train1,y_test1 = train_test_split(X1,y1,test_size=0.25,random_state=0)\n",
    "\n",
    "#Training the Algorithm\n",
    "classifier1 = RandomForestClassifier(n_estimators=20, random_state=0)\n",
    "classifier1.fit(X_train1, y_train1)\n",
    "y_pred1 = classifier1.predict(X_test1)\n",
    "\n",
    "print(confusion_matrix(y_test1,y_pred1))\n",
    "print(classification_report(y_test1,y_pred1))\n",
    "print(accuracy_score(y_test1, y_pred1))"
   ]
  },
  {
   "cell_type": "code",
   "execution_count": 15,
   "metadata": {
    "collapsed": true
   },
   "outputs": [],
   "source": [
    "threshold = 0.5\n",
    "\n",
    "predicted_proba = classifier1.predict_proba(X_test1)\n",
    "predicted = (predicted_proba [:,1] >= threshold).astype('int')"
   ]
  },
  {
   "cell_type": "code",
   "execution_count": 17,
   "metadata": {},
   "outputs": [
    {
     "name": "stdout",
     "output_type": "stream",
     "text": [
      "0.997624087434\n"
     ]
    }
   ],
   "source": [
    "accuracy = accuracy_score(y_test1, predicted)\n",
    "print(accuracy)"
   ]
  },
  {
   "cell_type": "code",
   "execution_count": 18,
   "metadata": {},
   "outputs": [
    {
     "name": "stdout",
     "output_type": "stream",
     "text": [
      "[[23076    14]\n",
      " [   41    18]]\n"
     ]
    }
   ],
   "source": [
    "print(confusion_matrix(y_test1,predicted))"
   ]
  },
  {
   "cell_type": "code",
   "execution_count": 19,
   "metadata": {},
   "outputs": [
    {
     "name": "stdout",
     "output_type": "stream",
     "text": [
      "0.998012873126\n",
      "[[23058    32]\n",
      " [   14    45]]\n"
     ]
    }
   ],
   "source": [
    "threshold = 0.25\n",
    "\n",
    "predicted_proba = classifier1.predict_proba(X_test1)\n",
    "predicted = (predicted_proba [:,1] >= threshold).astype('int')\n",
    "\n",
    "accuracy = accuracy_score(y_test1, predicted)\n",
    "print(accuracy)\n",
    "\n",
    "print(confusion_matrix(y_test1,predicted))"
   ]
  },
  {
   "cell_type": "code",
   "execution_count": 20,
   "metadata": {},
   "outputs": [
    {
     "name": "stdout",
     "output_type": "stream",
     "text": [
      "0.997840079485\n",
      "[[23053    37]\n",
      " [   13    46]]\n"
     ]
    }
   ],
   "source": [
    "threshold = 0.167\n",
    "\n",
    "predicted_proba = classifier1.predict_proba(X_test1)\n",
    "predicted = (predicted_proba [:,1] >= threshold).astype('int')\n",
    "\n",
    "accuracy = accuracy_score(y_test1, predicted)\n",
    "print(accuracy)\n",
    "\n",
    "print(confusion_matrix(y_test1,predicted))"
   ]
  },
  {
   "cell_type": "code",
   "execution_count": 21,
   "metadata": {},
   "outputs": [
    {
     "name": "stdout",
     "output_type": "stream",
     "text": [
      "0.996112143073\n",
      "[[23009    81]\n",
      " [    9    50]]\n"
     ]
    }
   ],
   "source": [
    "threshold = 0.023\n",
    "\n",
    "predicted_proba = classifier1.predict_proba(X_test1)\n",
    "predicted = (predicted_proba [:,1] >= threshold).astype('int')\n",
    "\n",
    "accuracy = accuracy_score(y_test1, predicted)\n",
    "print(accuracy)\n",
    "\n",
    "print(confusion_matrix(y_test1,predicted))"
   ]
  },
  {
   "cell_type": "code",
   "execution_count": 22,
   "metadata": {},
   "outputs": [
    {
     "name": "stdout",
     "output_type": "stream",
     "text": [
      "0.995204976457\n",
      "[[22986   104]\n",
      " [    7    52]]\n"
     ]
    }
   ],
   "source": [
    "threshold = 0.001\n",
    "\n",
    "predicted_proba = classifier1.predict_proba(X_test1)\n",
    "predicted = (predicted_proba [:,1] >= threshold).astype('int')\n",
    "\n",
    "accuracy = accuracy_score(y_test1, predicted)\n",
    "print(accuracy)\n",
    "\n",
    "print(confusion_matrix(y_test1,predicted))"
   ]
  },
  {
   "cell_type": "code",
   "execution_count": 24,
   "metadata": {
    "collapsed": true
   },
   "outputs": [],
   "source": [
    "#Splitting indicator column into multiple columns\n",
    "df_rf2[['indicator_pairs', '1', '2', '3', '4', '5', '6', '7', '8']] = df_rf2.indicator_pairs.str.split(\"/\",expand=True)"
   ]
  },
  {
   "cell_type": "code",
   "execution_count": 25,
   "metadata": {},
   "outputs": [
    {
     "name": "stdout",
     "output_type": "stream",
     "text": [
      "[[22253   207]\n",
      " [  226   463]]\n",
      "             precision    recall  f1-score   support\n",
      "\n",
      "          0       0.99      0.99      0.99     22460\n",
      "          1       0.69      0.67      0.68       689\n",
      "\n",
      "avg / total       0.98      0.98      0.98     23149\n",
      "\n",
      "0.981295088341\n"
     ]
    }
   ],
   "source": [
    "#Using Indicators as well\n",
    "\n",
    "#split dataset in features and target variable\n",
    "feature_cols = ['owner_name', 'hru', 'person_type', 'person_status', 'Tenure', 'function_group', 'career_band', 'job_function', 'industry_focus_name', 'indicator_pairs', '1', '2', '3', '4', '5', '6', '7', '8']\n",
    "df_rf2['classification'] = np.where(((df_rf2['classification'] == 'TP/HIGH') | (df_rf2['classification'] == 'TP/LOW')), 1, 0)\n",
    "X1 = df_rf2[feature_cols] # Features\n",
    "y1 = df_rf2.classification #Target Variable\n",
    "\n",
    "#One-hot Encoding\n",
    "X1 = pd.get_dummies(X1)\n",
    "\n",
    "#Splitting into training and testing sets\n",
    "X_train1,X_test1,y_train1,y_test1 = train_test_split(X1,y1,test_size=0.25,random_state=0)\n",
    "\n",
    "#Training the Algorithm\n",
    "classifier1 = RandomForestClassifier(n_estimators=20, random_state=0)\n",
    "classifier1.fit(X_train1, y_train1)\n",
    "y_pred1 = classifier1.predict(X_test1)\n",
    "\n",
    "print(confusion_matrix(y_test1,y_pred1))\n",
    "print(classification_report(y_test1,y_pred1))\n",
    "print(accuracy_score(y_test1, y_pred1))"
   ]
  },
  {
   "cell_type": "code",
   "execution_count": 26,
   "metadata": {},
   "outputs": [
    {
     "name": "stdout",
     "output_type": "stream",
     "text": [
      "0.98120869152\n",
      "[[22251   209]\n",
      " [  226   463]]\n"
     ]
    }
   ],
   "source": [
    "threshold = 0.5\n",
    "\n",
    "predicted_proba = classifier1.predict_proba(X_test1)\n",
    "predicted = (predicted_proba [:,1] >= threshold).astype('int')\n",
    "\n",
    "accuracy = accuracy_score(y_test1, predicted)\n",
    "print(accuracy)\n",
    "\n",
    "print(confusion_matrix(y_test1,predicted))"
   ]
  },
  {
   "cell_type": "code",
   "execution_count": 27,
   "metadata": {},
   "outputs": [
    {
     "name": "stdout",
     "output_type": "stream",
     "text": [
      "0.981035897879\n",
      "[[22106   354]\n",
      " [   85   604]]\n"
     ]
    }
   ],
   "source": [
    "threshold = 0.25\n",
    "\n",
    "predicted_proba = classifier1.predict_proba(X_test1)\n",
    "predicted = (predicted_proba [:,1] >= threshold).astype('int')\n",
    "\n",
    "accuracy = accuracy_score(y_test1, predicted)\n",
    "print(accuracy)\n",
    "\n",
    "print(confusion_matrix(y_test1,predicted))"
   ]
  },
  {
   "cell_type": "code",
   "execution_count": 28,
   "metadata": {},
   "outputs": [
    {
     "name": "stdout",
     "output_type": "stream",
     "text": [
      "0.970884271459\n",
      "[[21821   639]\n",
      " [   35   654]]\n"
     ]
    }
   ],
   "source": [
    "threshold = 0.167\n",
    "\n",
    "predicted_proba = classifier1.predict_proba(X_test1)\n",
    "predicted = (predicted_proba [:,1] >= threshold).astype('int')\n",
    "\n",
    "accuracy = accuracy_score(y_test1, predicted)\n",
    "print(accuracy)\n",
    "\n",
    "print(confusion_matrix(y_test1,predicted))"
   ]
  },
  {
   "cell_type": "code",
   "execution_count": 29,
   "metadata": {},
   "outputs": [
    {
     "name": "stdout",
     "output_type": "stream",
     "text": [
      "0.95947989114\n",
      "[[21538   922]\n",
      " [   16   673]]\n"
     ]
    }
   ],
   "source": [
    "threshold = 0.023\n",
    "\n",
    "predicted_proba = classifier1.predict_proba(X_test1)\n",
    "predicted = (predicted_proba [:,1] >= threshold).astype('int')\n",
    "\n",
    "accuracy = accuracy_score(y_test1, predicted)\n",
    "print(accuracy)\n",
    "\n",
    "print(confusion_matrix(y_test1,predicted))"
   ]
  },
  {
   "cell_type": "code",
   "execution_count": 30,
   "metadata": {},
   "outputs": [
    {
     "name": "stdout",
     "output_type": "stream",
     "text": [
      "0.958356732472\n",
      "[[21510   950]\n",
      " [   14   675]]\n"
     ]
    }
   ],
   "source": [
    "threshold = 0.001\n",
    "\n",
    "predicted_proba = classifier1.predict_proba(X_test1)\n",
    "predicted = (predicted_proba [:,1] >= threshold).astype('int')\n",
    "\n",
    "accuracy = accuracy_score(y_test1, predicted)\n",
    "print(accuracy)\n",
    "\n",
    "print(confusion_matrix(y_test1,predicted))"
   ]
  },
  {
   "cell_type": "code",
   "execution_count": null,
   "metadata": {
    "collapsed": true
   },
   "outputs": [],
   "source": []
  },
  {
   "cell_type": "code",
   "execution_count": null,
   "metadata": {
    "collapsed": true
   },
   "outputs": [],
   "source": []
  }
 ],
 "metadata": {
  "kernelspec": {
   "display_name": "Python 3",
   "language": "python",
   "name": "python3"
  },
  "language_info": {
   "codemirror_mode": {
    "name": "ipython",
    "version": 3
   },
   "file_extension": ".py",
   "mimetype": "text/x-python",
   "name": "python",
   "nbconvert_exporter": "python",
   "pygments_lexer": "ipython3",
   "version": "3.6.3"
  }
 },
 "nbformat": 4,
 "nbformat_minor": 2
}
