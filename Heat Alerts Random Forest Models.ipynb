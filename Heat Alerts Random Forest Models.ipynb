{
 "cells": [
  {
   "cell_type": "code",
   "execution_count": 2,
   "metadata": {},
   "outputs": [],
   "source": [
    "import pandas as pd\n",
    "import numpy as np\n",
    "from sklearn.cluster import KMeans\n",
    "from sklearn.preprocessing import LabelEncoder\n",
    "from sklearn.preprocessing import MinMaxScaler\n",
    "from sklearn.model_selection import train_test_split\n",
    "import seaborn as sns\n",
    "import matplotlib.pyplot as plt\n",
    "%matplotlib inline\n",
    "from scipy import stats\n",
    "from sklearn.cluster import KMeans \n",
    "from sklearn import metrics \n",
    "from scipy.spatial.distance import cdist \n",
    "#from sklearn.cross_validation import train_test_split\n",
    "from sklearn.linear_model import LogisticRegression\n",
    "from sklearn import metrics\n",
    "from sklearn import tree\n",
    "import graphviz\n",
    "import os\n",
    "os.environ[\"PATH\"] += os.pathsep + 'F:/Data Analytics-MS!/Integrated Experiential Learn/Week 5 & 6/release/bin'\n",
    "import warnings\n",
    "warnings.filterwarnings('ignore')\n",
    "from sklearn.ensemble import RandomForestRegressor\n",
    "from sklearn.ensemble import RandomForestClassifier\n",
    "from sklearn.model_selection import train_test_split\n",
    "from sklearn.metrics import classification_report, confusion_matrix, accuracy_score\n",
    "from sklearn.metrics import recall_score\n",
    "#from imblearn.over_sampling import SMOTE"
   ]
  },
  {
   "cell_type": "code",
   "execution_count": 4,
   "metadata": {},
   "outputs": [],
   "source": [
    "df1 = pd.read_csv('F:/Data Analytics-MS!/Integrated Experiential Learn/Week 5 & 6/indicator_pairs_data updated.csv')\n",
    "df2 = pd.read_csv('F:/Data Analytics-MS!/Integrated Experiential Learn/Week 5 & 6/obfuscated_demo_data2.csv')"
   ]
  },
  {
   "cell_type": "code",
   "execution_count": 5,
   "metadata": {
    "collapsed": true
   },
   "outputs": [],
   "source": [
    "df = pd.merge(df1, df2, on='employee_id', how = 'inner')"
   ]
  },
  {
   "cell_type": "code",
   "execution_count": 6,
   "metadata": {
    "collapsed": true
   },
   "outputs": [],
   "source": [
    "df = df[df['alert_type'] != 'Atomic'] "
   ]
  },
  {
   "cell_type": "code",
   "execution_count": 7,
   "metadata": {
    "collapsed": true
   },
   "outputs": [],
   "source": [
    "df['Dates'] = pd.to_datetime(df['ge_hire_date']).dt.date\n",
    "df['Time'] = pd.to_datetime(df['ge_hire_date']).dt.time\n",
    "df['year'] = pd.DatetimeIndex(df['Dates']).year\n",
    "df['Tenure'] = df.apply(lambda row: 2020 - row.year, axis = 1) \n",
    "df['year'] = df['year'].fillna(0).astype(int)\n",
    "df['Tenure'] = df['Tenure'].fillna(0).astype(int)"
   ]
  },
  {
   "cell_type": "code",
   "execution_count": 8,
   "metadata": {
    "collapsed": true
   },
   "outputs": [],
   "source": [
    "df = df.drop(['alert_id_fk', 'insert_date', 'employee_id', 'alert_escalation_date', 'ge_hire_date', 'city', 'state_name', 'country_name', 'alert_category', 'year', 'Time', 'Dates'], axis=1)"
   ]
  },
  {
   "cell_type": "code",
   "execution_count": 9,
   "metadata": {
    "collapsed": true
   },
   "outputs": [],
   "source": [
    "#Splitting indicator column into multiple columns\n",
    "df[['indicator_pairs', '1', '2', '3', '4', '5', '6', '7', '8', '9', '10', '11', '12', '13', '14', '15', '16', '17', '18', '19', '20', '21']] = df.indicator_pairs.str.split(\"/\",expand=True)"
   ]
  },
  {
   "cell_type": "code",
   "execution_count": 17,
   "metadata": {
    "collapsed": true
   },
   "outputs": [],
   "source": [
    "#export_csv = df.to_csv (r'F:\\Data Analytics-MS!\\Integrated Experiential Learn\\Final Submissions\\heat_data.csv', index = None, header=True)"
   ]
  },
  {
   "cell_type": "code",
   "execution_count": 10,
   "metadata": {
    "collapsed": true
   },
   "outputs": [],
   "source": [
    "dfd = df.copy()\n",
    "dfw = df.copy()\n",
    "dfm = df.copy()\n",
    "dfd = dfd[dfd['alert_type'] != 'Atomic'] \n",
    "dfd = dfd[dfd['alert_type'] == 'Daily_Heat'] \n",
    "dfw = dfw[dfw['alert_type'] != 'Atomic'] \n",
    "dfw = dfw[dfw['alert_type'] == 'Weekly_Heat'] \n",
    "dfm = dfm[dfm['alert_type'] != 'Atomic'] \n",
    "dfm = dfm[dfm['alert_type'] == 'Monthly_Heat'] "
   ]
  },
  {
   "cell_type": "code",
   "execution_count": 11,
   "metadata": {
    "collapsed": true
   },
   "outputs": [],
   "source": [
    "#Target Variable\n",
    "dfd['classification'] = np.where((dfd['classification'] == 'TP/HIGH'), 1, 0)\n",
    "#split dataset in features and target variable\n",
    "feature_cols = ['score', 'owner_name', 'hru', 'person_type', 'person_status', 'alert_type', 'risk_factor', 'Tenure', 'indicator_pairs']\n",
    "X = dfd[feature_cols] # Features\n",
    "y = dfd.classification #Target Variable\n",
    "\n",
    "#One-hot Encoding\n",
    "X = pd.get_dummies(X)\n",
    "\n",
    "#Splitting into training and testing sets\n",
    "X_train,X_test,y_train,y_test=train_test_split(X,y,test_size=0.2,random_state=0)"
   ]
  },
  {
   "cell_type": "code",
   "execution_count": 12,
   "metadata": {
    "collapsed": true
   },
   "outputs": [],
   "source": [
    "#Training the Algorithm\n",
    "\n",
    "classifier = RandomForestClassifier(n_estimators=20, random_state=0)\n",
    "classifier.fit(X_train, y_train)\n",
    "y_pred = classifier.predict(X_test)"
   ]
  },
  {
   "cell_type": "code",
   "execution_count": 13,
   "metadata": {},
   "outputs": [
    {
     "name": "stdout",
     "output_type": "stream",
     "text": [
      "[[3124   46]\n",
      " [  68   38]]\n",
      "             precision    recall  f1-score   support\n",
      "\n",
      "          0       0.98      0.99      0.98      3170\n",
      "          1       0.45      0.36      0.40       106\n",
      "\n",
      "avg / total       0.96      0.97      0.96      3276\n",
      "\n",
      "0.965201465201\n"
     ]
    }
   ],
   "source": [
    "print(confusion_matrix(y_test,y_pred))\n",
    "print(classification_report(y_test,y_pred))\n",
    "print(accuracy_score(y_test, y_pred))"
   ]
  },
  {
   "cell_type": "code",
   "execution_count": 14,
   "metadata": {},
   "outputs": [
    {
     "name": "stdout",
     "output_type": "stream",
     "text": [
      "0.965506715507\n",
      "[[3124   46]\n",
      " [  67   39]]\n"
     ]
    }
   ],
   "source": [
    "threshold = 0.5\n",
    "\n",
    "predicted_proba = classifier.predict_proba(X_test)\n",
    "predicted = (predicted_proba [:,1] >= threshold).astype('int')\n",
    "\n",
    "accuracy = accuracy_score(y_test, predicted)\n",
    "print(accuracy)\n",
    "\n",
    "print(confusion_matrix(y_test,predicted))"
   ]
  },
  {
   "cell_type": "code",
   "execution_count": 15,
   "metadata": {},
   "outputs": [
    {
     "name": "stdout",
     "output_type": "stream",
     "text": [
      "0.961843711844\n",
      "[[3094   76]\n",
      " [  49   57]]\n"
     ]
    }
   ],
   "source": [
    "threshold = 0.25\n",
    "\n",
    "predicted_proba = classifier.predict_proba(X_test)\n",
    "predicted = (predicted_proba [:,1] >= threshold).astype('int')\n",
    "\n",
    "accuracy = accuracy_score(y_test, predicted)\n",
    "print(accuracy)\n",
    "\n",
    "print(confusion_matrix(y_test,predicted))"
   ]
  },
  {
   "cell_type": "code",
   "execution_count": 16,
   "metadata": {},
   "outputs": [
    {
     "name": "stdout",
     "output_type": "stream",
     "text": [
      "0.959096459096\n",
      "[[3076   94]\n",
      " [  40   66]]\n"
     ]
    }
   ],
   "source": [
    "threshold = 0.167\n",
    "\n",
    "predicted_proba = classifier.predict_proba(X_test)\n",
    "predicted = (predicted_proba [:,1] >= threshold).astype('int')\n",
    "\n",
    "accuracy = accuracy_score(y_test, predicted)\n",
    "print(accuracy)\n",
    "\n",
    "print(confusion_matrix(y_test,predicted))"
   ]
  },
  {
   "cell_type": "code",
   "execution_count": 17,
   "metadata": {},
   "outputs": [
    {
     "name": "stdout",
     "output_type": "stream",
     "text": [
      "0.900183150183\n",
      "[[2862  308]\n",
      " [  19   87]]\n"
     ]
    }
   ],
   "source": [
    "threshold = 0.023\n",
    "\n",
    "predicted_proba = classifier.predict_proba(X_test)\n",
    "predicted = (predicted_proba [:,1] >= threshold).astype('int')\n",
    "\n",
    "accuracy = accuracy_score(y_test, predicted)\n",
    "print(accuracy)\n",
    "\n",
    "print(confusion_matrix(y_test,predicted))"
   ]
  },
  {
   "cell_type": "code",
   "execution_count": 18,
   "metadata": {},
   "outputs": [
    {
     "name": "stdout",
     "output_type": "stream",
     "text": [
      "0.892246642247\n",
      "[[2835  335]\n",
      " [  18   88]]\n"
     ]
    }
   ],
   "source": [
    "threshold = 0.001\n",
    "\n",
    "predicted_proba = classifier.predict_proba(X_test)\n",
    "predicted = (predicted_proba [:,1] >= threshold).astype('int')\n",
    "\n",
    "accuracy = accuracy_score(y_test, predicted)\n",
    "print(accuracy)\n",
    "\n",
    "print(confusion_matrix(y_test,predicted))"
   ]
  },
  {
   "cell_type": "code",
   "execution_count": 22,
   "metadata": {},
   "outputs": [
    {
     "name": "stdout",
     "output_type": "stream",
     "text": [
      "Validation Results\n",
      "0.9615384615384616\n",
      "0.4528301886792453\n",
      "\n",
      " Test Results\n",
      "0.9774711520849869\n",
      "0.7473684210526316\n"
     ]
    }
   ],
   "source": [
    "#Oversampling for daily\n",
    "sm = SMOTE(random_state=12)\n",
    "X_train_res, y_train_res = sm.fit_sample(X_train, y_train)\n",
    "#Training the Algorithm\n",
    "classifier3 = RandomForestClassifier(n_estimators=30, random_state=12)\n",
    "classifier3.fit(X_train_res, y_train_res)\n",
    "print ('Validation Results')\n",
    "print (classifier3.score(X_test, y_test))\n",
    "print (recall_score(y_test, classifier3.predict(X_test)))\n",
    "print ('\\n Test Results')\n",
    "print (classifier3.score(X, y))\n",
    "print (recall_score(y, classifier3.predict(X)))"
   ]
  },
  {
   "cell_type": "code",
   "execution_count": 19,
   "metadata": {},
   "outputs": [
    {
     "name": "stdout",
     "output_type": "stream",
     "text": [
      "[[2151   41]\n",
      " [  52   42]]\n",
      "             precision    recall  f1-score   support\n",
      "\n",
      "          0       0.98      0.98      0.98      2192\n",
      "          1       0.51      0.45      0.47        94\n",
      "\n",
      "avg / total       0.96      0.96      0.96      2286\n",
      "\n",
      "0.959317585302\n"
     ]
    }
   ],
   "source": [
    "#Target Variable\n",
    "dfm['classification'] = np.where((dfm['classification'] == 'TP/HIGH'), 1, 0)\n",
    "#split dataset in features and target variable\n",
    "feature_cols = ['score', 'owner_name', 'hru', 'person_type', 'person_status', 'alert_type', 'risk_factor', 'Tenure', 'indicator_pairs']\n",
    "X = dfm[feature_cols] # Features\n",
    "y = dfm.classification #Target Variable\n",
    "\n",
    "#One-hot Encoding\n",
    "X = pd.get_dummies(X)\n",
    "\n",
    "#Splitting into training and testing sets\n",
    "X_train,X_test,y_train,y_test=train_test_split(X,y,test_size=0.2,random_state=0)\n",
    "\n",
    "#Training the Algorithm\n",
    "\n",
    "classifier = RandomForestClassifier(n_estimators=20, random_state=0)\n",
    "classifier.fit(X_train, y_train)\n",
    "y_pred = classifier.predict(X_test)\n",
    "\n",
    "print(confusion_matrix(y_test,y_pred))\n",
    "print(classification_report(y_test,y_pred))\n",
    "print(accuracy_score(y_test, y_pred))"
   ]
  },
  {
   "cell_type": "code",
   "execution_count": 20,
   "metadata": {},
   "outputs": [
    {
     "name": "stdout",
     "output_type": "stream",
     "text": [
      "0.958880139983\n",
      "[[2150   42]\n",
      " [  52   42]]\n"
     ]
    }
   ],
   "source": [
    "threshold = 0.5\n",
    "\n",
    "predicted_proba = classifier.predict_proba(X_test)\n",
    "predicted = (predicted_proba [:,1] >= threshold).astype('int')\n",
    "\n",
    "accuracy = accuracy_score(y_test, predicted)\n",
    "print(accuracy)\n",
    "\n",
    "print(confusion_matrix(y_test,predicted))"
   ]
  },
  {
   "cell_type": "code",
   "execution_count": 21,
   "metadata": {},
   "outputs": [
    {
     "name": "stdout",
     "output_type": "stream",
     "text": [
      "0.959317585302\n",
      "[[2139   53]\n",
      " [  40   54]]\n"
     ]
    }
   ],
   "source": [
    "threshold = 0.25\n",
    "\n",
    "predicted_proba = classifier.predict_proba(X_test)\n",
    "predicted = (predicted_proba [:,1] >= threshold).astype('int')\n",
    "\n",
    "accuracy = accuracy_score(y_test, predicted)\n",
    "print(accuracy)\n",
    "\n",
    "print(confusion_matrix(y_test,predicted))"
   ]
  },
  {
   "cell_type": "code",
   "execution_count": 22,
   "metadata": {},
   "outputs": [
    {
     "name": "stdout",
     "output_type": "stream",
     "text": [
      "0.959755030621\n",
      "[[2132   60]\n",
      " [  32   62]]\n"
     ]
    }
   ],
   "source": [
    "threshold = 0.167\n",
    "\n",
    "predicted_proba = classifier.predict_proba(X_test)\n",
    "predicted = (predicted_proba [:,1] >= threshold).astype('int')\n",
    "\n",
    "accuracy = accuracy_score(y_test, predicted)\n",
    "print(accuracy)\n",
    "\n",
    "print(confusion_matrix(y_test,predicted))"
   ]
  },
  {
   "cell_type": "code",
   "execution_count": 23,
   "metadata": {},
   "outputs": [
    {
     "name": "stdout",
     "output_type": "stream",
     "text": [
      "0.874453193351\n",
      "[[1914  278]\n",
      " [   9   85]]\n"
     ]
    }
   ],
   "source": [
    "threshold = 0.023\n",
    "\n",
    "predicted_proba = classifier.predict_proba(X_test)\n",
    "predicted = (predicted_proba [:,1] >= threshold).astype('int')\n",
    "\n",
    "accuracy = accuracy_score(y_test, predicted)\n",
    "print(accuracy)\n",
    "\n",
    "print(confusion_matrix(y_test,predicted))"
   ]
  },
  {
   "cell_type": "code",
   "execution_count": 24,
   "metadata": {},
   "outputs": [
    {
     "name": "stdout",
     "output_type": "stream",
     "text": [
      "0.866579177603\n",
      "[[1896  296]\n",
      " [   9   85]]\n"
     ]
    }
   ],
   "source": [
    "threshold = 0.001\n",
    "\n",
    "predicted_proba = classifier.predict_proba(X_test)\n",
    "predicted = (predicted_proba [:,1] >= threshold).astype('int')\n",
    "\n",
    "accuracy = accuracy_score(y_test, predicted)\n",
    "print(accuracy)\n",
    "\n",
    "print(confusion_matrix(y_test,predicted))"
   ]
  },
  {
   "cell_type": "code",
   "execution_count": 24,
   "metadata": {},
   "outputs": [
    {
     "name": "stdout",
     "output_type": "stream",
     "text": [
      "Validation Results\n",
      "0.9558180227471567\n",
      "0.425531914893617\n",
      "\n",
      " Test Results\n",
      "0.9749737486874344\n",
      "0.75\n"
     ]
    }
   ],
   "source": [
    "#Oversampling for monthly\n",
    "sm = SMOTE(random_state=12)\n",
    "X_train_res, y_train_res = sm.fit_sample(X_train, y_train)\n",
    "#Training the Algorithm\n",
    "classifier1 = RandomForestClassifier(n_estimators=30, random_state=12)\n",
    "classifier1.fit(X_train_res, y_train_res)\n",
    "print ('Validation Results')\n",
    "print (classifier1.score(X_test, y_test))\n",
    "print (recall_score(y_test, classifier1.predict(X_test)))\n",
    "print ('\\n Test Results')\n",
    "print (classifier1.score(X, y))\n",
    "print (recall_score(y, classifier1.predict(X)))"
   ]
  },
  {
   "cell_type": "code",
   "execution_count": 25,
   "metadata": {},
   "outputs": [
    {
     "name": "stdout",
     "output_type": "stream",
     "text": [
      "[[2181   36]\n",
      " [  56   64]]\n",
      "             precision    recall  f1-score   support\n",
      "\n",
      "          0       0.97      0.98      0.98      2217\n",
      "          1       0.64      0.53      0.58       120\n",
      "\n",
      "avg / total       0.96      0.96      0.96      2337\n",
      "\n",
      "0.960633290543\n"
     ]
    }
   ],
   "source": [
    "#Target Variable\n",
    "dfw['classification'] = np.where((dfw['classification'] == 'TP/HIGH'), 1, 0)\n",
    "#split dataset in features and target variable\n",
    "feature_cols = ['score', 'owner_name', 'hru', 'person_type', 'person_status', 'alert_type', 'risk_factor', 'Tenure', 'indicator_pairs']\n",
    "X = dfw[feature_cols] # Features\n",
    "y = dfw.classification #Target Variable\n",
    "\n",
    "#One-hot Encoding\n",
    "X = pd.get_dummies(X)\n",
    "\n",
    "#Splitting into training and testing sets\n",
    "X_train,X_test,y_train,y_test=train_test_split(X,y,test_size=0.2,random_state=0)\n",
    "\n",
    "#Training the Algorithm\n",
    "\n",
    "classifier = RandomForestClassifier(n_estimators=20, random_state=0)\n",
    "classifier.fit(X_train, y_train)\n",
    "y_pred = classifier.predict(X_test)\n",
    "\n",
    "print(confusion_matrix(y_test,y_pred))\n",
    "print(classification_report(y_test,y_pred))\n",
    "print(accuracy_score(y_test, y_pred))"
   ]
  },
  {
   "cell_type": "code",
   "execution_count": 26,
   "metadata": {},
   "outputs": [
    {
     "name": "stdout",
     "output_type": "stream",
     "text": [
      "0.960205391528\n",
      "[[2180   37]\n",
      " [  56   64]]\n"
     ]
    }
   ],
   "source": [
    "threshold = 0.5\n",
    "\n",
    "predicted_proba = classifier.predict_proba(X_test)\n",
    "predicted = (predicted_proba [:,1] >= threshold).astype('int')\n",
    "\n",
    "accuracy = accuracy_score(y_test, predicted)\n",
    "print(accuracy)\n",
    "\n",
    "print(confusion_matrix(y_test,predicted))"
   ]
  },
  {
   "cell_type": "code",
   "execution_count": 27,
   "metadata": {},
   "outputs": [
    {
     "name": "stdout",
     "output_type": "stream",
     "text": [
      "0.963200684638\n",
      "[[2170   47]\n",
      " [  39   81]]\n"
     ]
    }
   ],
   "source": [
    "threshold = 0.25\n",
    "\n",
    "predicted_proba = classifier.predict_proba(X_test)\n",
    "predicted = (predicted_proba [:,1] >= threshold).astype('int')\n",
    "\n",
    "accuracy = accuracy_score(y_test, predicted)\n",
    "print(accuracy)\n",
    "\n",
    "print(confusion_matrix(y_test,predicted))"
   ]
  },
  {
   "cell_type": "code",
   "execution_count": 28,
   "metadata": {},
   "outputs": [
    {
     "name": "stdout",
     "output_type": "stream",
     "text": [
      "0.966623876765\n",
      "[[2166   51]\n",
      " [  27   93]]\n"
     ]
    }
   ],
   "source": [
    "threshold = 0.167\n",
    "\n",
    "predicted_proba = classifier.predict_proba(X_test)\n",
    "predicted = (predicted_proba [:,1] >= threshold).astype('int')\n",
    "\n",
    "accuracy = accuracy_score(y_test, predicted)\n",
    "print(accuracy)\n",
    "\n",
    "print(confusion_matrix(y_test,predicted))"
   ]
  },
  {
   "cell_type": "code",
   "execution_count": 29,
   "metadata": {},
   "outputs": [
    {
     "name": "stdout",
     "output_type": "stream",
     "text": [
      "0.91270860077\n",
      "[[2020  197]\n",
      " [   7  113]]\n"
     ]
    }
   ],
   "source": [
    "threshold = 0.023\n",
    "\n",
    "predicted_proba = classifier.predict_proba(X_test)\n",
    "predicted = (predicted_proba [:,1] >= threshold).astype('int')\n",
    "\n",
    "accuracy = accuracy_score(y_test, predicted)\n",
    "print(accuracy)\n",
    "\n",
    "print(confusion_matrix(y_test,predicted))"
   ]
  },
  {
   "cell_type": "code",
   "execution_count": 30,
   "metadata": {},
   "outputs": [
    {
     "name": "stdout",
     "output_type": "stream",
     "text": [
      "0.908857509628\n",
      "[[2011  206]\n",
      " [   7  113]]\n"
     ]
    }
   ],
   "source": [
    "threshold = 0.001\n",
    "\n",
    "predicted_proba = classifier.predict_proba(X_test)\n",
    "predicted = (predicted_proba [:,1] >= threshold).astype('int')\n",
    "\n",
    "accuracy = accuracy_score(y_test, predicted)\n",
    "print(accuracy)\n",
    "\n",
    "print(confusion_matrix(y_test,predicted))"
   ]
  },
  {
   "cell_type": "code",
   "execution_count": 26,
   "metadata": {},
   "outputs": [
    {
     "name": "stdout",
     "output_type": "stream",
     "text": [
      "Validation Results\n",
      "0.9619169875909286\n",
      "0.5833333333333334\n",
      "\n",
      " Test Results\n",
      "0.9797962503210341\n",
      "0.8293135435992579\n"
     ]
    }
   ],
   "source": [
    "#Oversampling for weekly\n",
    "sm = SMOTE(random_state=12)\n",
    "X_train_res, y_train_res = sm.fit_sample(X_train, y_train)\n",
    "#Training the Algorithm\n",
    "classifier2 = RandomForestClassifier(n_estimators=30, random_state=12)\n",
    "classifier2.fit(X_train_res, y_train_res)\n",
    "print ('Validation Results')\n",
    "print (classifier2.score(X_test, y_test))\n",
    "print (recall_score(y_test, classifier2.predict(X_test)))\n",
    "print ('\\n Test Results')\n",
    "print (classifier2.score(X, y))\n",
    "print (recall_score(y, classifier2.predict(X)))"
   ]
  }
 ],
 "metadata": {
  "kernelspec": {
   "display_name": "Python 3",
   "language": "python",
   "name": "python3"
  },
  "language_info": {
   "codemirror_mode": {
    "name": "ipython",
    "version": 3
   },
   "file_extension": ".py",
   "mimetype": "text/x-python",
   "name": "python",
   "nbconvert_exporter": "python",
   "pygments_lexer": "ipython3",
   "version": "3.6.3"
  }
 },
 "nbformat": 4,
 "nbformat_minor": 2
}
