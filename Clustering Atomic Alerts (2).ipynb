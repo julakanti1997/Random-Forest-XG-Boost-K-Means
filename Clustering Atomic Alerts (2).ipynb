{
 "cells": [
  {
   "cell_type": "code",
   "execution_count": 1,
   "metadata": {},
   "outputs": [
    {
     "name": "stderr",
     "output_type": "stream",
     "text": [
      "G:\\Anaconda3\\lib\\site-packages\\sklearn\\cross_validation.py:41: DeprecationWarning: This module was deprecated in version 0.18 in favor of the model_selection module into which all the refactored classes and functions are moved. Also note that the interface of the new CV iterators are different from that of this module. This module will be removed in 0.20.\n",
      "  \"This module will be removed in 0.20.\", DeprecationWarning)\n"
     ]
    }
   ],
   "source": [
    "import pandas as pd\n",
    "import numpy as np\n",
    "from sklearn.cluster import KMeans\n",
    "from sklearn.preprocessing import LabelEncoder\n",
    "from sklearn.preprocessing import MinMaxScaler\n",
    "from sklearn.model_selection import train_test_split\n",
    "import seaborn as sns\n",
    "import matplotlib.pyplot as plt\n",
    "%matplotlib inline\n",
    "from scipy import stats\n",
    "from sklearn.cluster import KMeans \n",
    "from sklearn import metrics \n",
    "from scipy.spatial.distance import cdist \n",
    "from sklearn.cross_validation import train_test_split\n",
    "from sklearn.linear_model import LogisticRegression\n",
    "from sklearn import metrics\n",
    "from sklearn import tree\n",
    "import graphviz\n",
    "import os\n",
    "os.environ[\"PATH\"] += os.pathsep + 'F:/Data Analytics-MS!/Integrated Experiential Learn/Week 5 & 6/release/bin'\n",
    "import warnings\n",
    "warnings.filterwarnings('ignore')\n",
    "from sklearn.ensemble import RandomForestRegressor\n",
    "from sklearn.ensemble import RandomForestClassifier\n",
    "from sklearn.model_selection import train_test_split\n",
    "from sklearn.metrics import classification_report, confusion_matrix, accuracy_score\n",
    "from sklearn.metrics import recall_score\n",
    "#from imblearn.over_sampling import SMOTE"
   ]
  },
  {
   "cell_type": "code",
   "execution_count": 2,
   "metadata": {
    "collapsed": true
   },
   "outputs": [],
   "source": [
    "df1 = pd.read_csv('F:/Data Analytics-MS!/Integrated Experiential Learn/Week 5 & 6/indicator_pairs_data updated.csv')\n",
    "df2 = pd.read_csv('F:/Data Analytics-MS!/Integrated Experiential Learn/Week 5 & 6/obfuscated_demo_data2.csv')"
   ]
  },
  {
   "cell_type": "code",
   "execution_count": 3,
   "metadata": {
    "collapsed": true
   },
   "outputs": [],
   "source": [
    "df = pd.merge(df1, df2, on='employee_id', how = 'inner')"
   ]
  },
  {
   "cell_type": "code",
   "execution_count": 4,
   "metadata": {},
   "outputs": [
    {
     "data": {
      "text/plain": [
       "(132084, 23)"
      ]
     },
     "execution_count": 4,
     "metadata": {},
     "output_type": "execute_result"
    }
   ],
   "source": [
    "df.shape"
   ]
  },
  {
   "cell_type": "code",
   "execution_count": 5,
   "metadata": {
    "collapsed": true
   },
   "outputs": [],
   "source": [
    "condition = df['alert_category']=='Atomic'\n",
    "df = df[condition]"
   ]
  },
  {
   "cell_type": "code",
   "execution_count": 6,
   "metadata": {},
   "outputs": [
    {
     "data": {
      "text/plain": [
       "(92594, 23)"
      ]
     },
     "execution_count": 6,
     "metadata": {},
     "output_type": "execute_result"
    }
   ],
   "source": [
    "df.shape"
   ]
  },
  {
   "cell_type": "code",
   "execution_count": 7,
   "metadata": {},
   "outputs": [
    {
     "name": "stdout",
     "output_type": "stream",
     "text": [
      "alert_escalation_date       0\n",
      "alert_id_fk                 0\n",
      "insert_date                 0\n",
      "score                       0\n",
      "owner_name                105\n",
      "employee_id                 0\n",
      "risk_factor                 0\n",
      "avg_score                   0\n",
      "classification              0\n",
      "hru                         0\n",
      "alert_category              0\n",
      "alert_type                  0\n",
      "indicator_pairs             0\n",
      "person_type                 0\n",
      "person_status               0\n",
      "ge_hire_date             1121\n",
      "city                     1324\n",
      "state_name                738\n",
      "country_name              738\n",
      "function_group            738\n",
      "job_function                0\n",
      "career_band                 0\n",
      "industry_focus_name         0\n",
      "dtype: int64\n"
     ]
    }
   ],
   "source": [
    "print(df.isnull().sum())"
   ]
  },
  {
   "cell_type": "code",
   "execution_count": 8,
   "metadata": {
    "collapsed": true
   },
   "outputs": [],
   "source": [
    "df['Dates'] = pd.to_datetime(df['ge_hire_date']).dt.date\n",
    "df['Time'] = pd.to_datetime(df['ge_hire_date']).dt.time\n",
    "df['year'] = pd.DatetimeIndex(df['Dates']).year\n",
    "df['Tenure'] = df.apply(lambda row: 2020 - row.year, axis = 1) \n",
    "df['year'] = df['year'].fillna(0).astype(int)\n",
    "df['Tenure'] = df['Tenure'].fillna(0).astype(int)"
   ]
  },
  {
   "cell_type": "code",
   "execution_count": 9,
   "metadata": {
    "collapsed": true
   },
   "outputs": [],
   "source": [
    "df = df.drop(['alert_id_fk', 'insert_date', 'employee_id', 'score', 'alert_escalation_date', 'ge_hire_date', 'city', 'state_name', 'country_name', 'alert_type', 'alert_category', 'risk_factor', 'avg_score', 'year', 'Time', 'Dates'], axis=1)"
   ]
  },
  {
   "cell_type": "code",
   "execution_count": 10,
   "metadata": {
    "collapsed": true
   },
   "outputs": [],
   "source": [
    "#export_csv = df.to_csv (r'F:\\Data Analytics-MS!\\Integrated Experiential Learn\\Final Submissions\\atomic_alerts.csv', index = None, header=True)"
   ]
  },
  {
   "cell_type": "code",
   "execution_count": 11,
   "metadata": {
    "collapsed": true
   },
   "outputs": [],
   "source": [
    "df_cl = df.copy()\n",
    "df_cl2 = df.copy()"
   ]
  },
  {
   "cell_type": "code",
   "execution_count": 12,
   "metadata": {
    "collapsed": true
   },
   "outputs": [],
   "source": [
    "#df_cl['classification'] = np.where((df_cl['classification'] == 'TP/HIGH'), 1, 0)"
   ]
  },
  {
   "cell_type": "code",
   "execution_count": 13,
   "metadata": {
    "collapsed": true
   },
   "outputs": [],
   "source": [
    "#One-hot Encoding\n",
    "df_cl = pd.get_dummies(df_cl)"
   ]
  },
  {
   "cell_type": "code",
   "execution_count": 14,
   "metadata": {},
   "outputs": [
    {
     "data": {
      "image/png": "[encoded data removed]",
      "text/plain": [
       "<matplotlib.figure.Figure at 0x1db943fdac8>"
      ]
     },
     "metadata": {},
     "output_type": "display_data"
    }
   ],
   "source": [
    "mms = MinMaxScaler()\n",
    "mms.fit(df_cl)\n",
    "data_transformed = mms.transform(df_cl)\n",
    "\n",
    "Sum_of_squared_distances = []\n",
    "K = range(1,15)\n",
    "for k in K:\n",
    "    km = KMeans(n_clusters=k)\n",
    "    km = km.fit(data_transformed)\n",
    "    Sum_of_squared_distances.append(km.inertia_)\n",
    "\n",
    "plt.plot(K, Sum_of_squared_distances, 'bx-')\n",
    "plt.xlabel('k')\n",
    "plt.ylabel('Sum_of_squared_distances')\n",
    "plt.title('Elbow Method For Optimal k')\n",
    "plt.show()"
   ]
  },
  {
   "cell_type": "code",
   "execution_count": 15,
   "metadata": {
    "collapsed": true
   },
   "outputs": [],
   "source": [
    "kmeans = KMeans(n_clusters=4, random_state=0).fit(data_transformed)\n",
    "labels = kmeans.labels_\n",
    "\n",
    "df_cl['clusters'] = labels\n",
    "\n",
    "kmeans_mean_cluster = pd.DataFrame(round(df_cl.groupby('clusters').sum()))\n",
    "kmeans_mean_cluster\n",
    "export_csv = kmeans_mean_cluster.to_csv (r'F:\\Data Analytics-MS!\\Integrated Experiential Learn\\Final Submissions\\clustering_atomic.csv', index = None, header=True)"
   ]
  },
  {
   "cell_type": "code",
   "execution_count": 33,
   "metadata": {},
   "outputs": [
    {
     "data": {
      "text/plain": [
       "0    92371\n",
       "1      223\n",
       "Name: classification, dtype: int64"
      ]
     },
     "execution_count": 33,
     "metadata": {},
     "output_type": "execute_result"
    }
   ],
   "source": [
    "df_cl['classification'].value_counts()"
   ]
  },
  {
   "cell_type": "code",
   "execution_count": 34,
   "metadata": {
    "collapsed": true
   },
   "outputs": [],
   "source": [
    "df_cl2['classification'] = np.where(((df_cl2['classification'] == 'TP/HIGH') | (df_cl2['classification'] == 'TP/LOW')), 1, 0)"
   ]
  },
  {
   "cell_type": "code",
   "execution_count": 36,
   "metadata": {
    "collapsed": true
   },
   "outputs": [],
   "source": [
    "#One-hot Encoding\n",
    "df_cl2 = pd.get_dummies(df_cl2)"
   ]
  },
  {
   "cell_type": "code",
   "execution_count": 37,
   "metadata": {},
   "outputs": [
    {
     "data": {
      "image/png": "[encoded data removed]",
      "text/plain": [
       "<matplotlib.figure.Figure at 0x27c8367f6a0>"
      ]
     },
     "metadata": {},
     "output_type": "display_data"
    }
   ],
   "source": [
    "mms = MinMaxScaler()\n",
    "mms.fit(df_cl2)\n",
    "data_transformed = mms.transform(df_cl2)\n",
    "\n",
    "Sum_of_squared_distances = []\n",
    "K = range(1,15)\n",
    "for k in K:\n",
    "    km = KMeans(n_clusters=k)\n",
    "    km = km.fit(data_transformed)\n",
    "    Sum_of_squared_distances.append(km.inertia_)\n",
    "\n",
    "plt.plot(K, Sum_of_squared_distances, 'bx-')\n",
    "plt.xlabel('k')\n",
    "plt.ylabel('Sum_of_squared_distances')\n",
    "plt.title('Elbow Method For Optimal k')\n",
    "plt.show()"
   ]
  },
  {
   "cell_type": "code",
   "execution_count": 38,
   "metadata": {
    "scrolled": true
   },
   "outputs": [
    {
     "data": {
      "text/html": [
       "<div>\n",
       "<style>\n",
       "    .dataframe thead tr:only-child th {\n",
       "        text-align: right;\n",
       "    }\n",
       "\n",
       "    .dataframe thead th {\n",
       "        text-align: left;\n",
       "    }\n",
       "\n",
       "    .dataframe tbody tr th {\n",
       "        vertical-align: top;\n",
       "    }\n",
       "</style>\n",
       "<table border=\"1\" class=\"dataframe\">\n",
       "  <thead>\n",
       "    <tr style=\"text-align: right;\">\n",
       "      <th></th>\n",
       "      <th>classification</th>\n",
       "      <th>Tenure</th>\n",
       "      <th>owner_name_Analyst_1</th>\n",
       "      <th>owner_name_Analyst_4</th>\n",
       "      <th>owner_name_Analyst_5</th>\n",
       "      <th>owner_name_Analyst_6</th>\n",
       "      <th>owner_name_Analyst_7</th>\n",
       "      <th>owner_name_Analyst_8</th>\n",
       "      <th>owner_name_Senior_Analyst_1</th>\n",
       "      <th>owner_name_Senior_Analyst_2</th>\n",
       "      <th>...</th>\n",
       "      <th>industry_focus_name_BUSINESS_SEGMENT_11</th>\n",
       "      <th>industry_focus_name_BUSINESS_SEGMENT_12</th>\n",
       "      <th>industry_focus_name_BUSINESS_SEGMENT_15</th>\n",
       "      <th>industry_focus_name_BUSINESS_SEGMENT_2</th>\n",
       "      <th>industry_focus_name_BUSINESS_SEGMENT_3</th>\n",
       "      <th>industry_focus_name_BUSINESS_SEGMENT_4</th>\n",
       "      <th>industry_focus_name_BUSINESS_SEGMENT_6</th>\n",
       "      <th>industry_focus_name_BUSINESS_SEGMENT_7</th>\n",
       "      <th>industry_focus_name_BUSINESS_SEGMENT_8</th>\n",
       "      <th>industry_focus_name_BUSINESS_SEGMENT_9</th>\n",
       "    </tr>\n",
       "    <tr>\n",
       "      <th>clusters</th>\n",
       "      <th></th>\n",
       "      <th></th>\n",
       "      <th></th>\n",
       "      <th></th>\n",
       "      <th></th>\n",
       "      <th></th>\n",
       "      <th></th>\n",
       "      <th></th>\n",
       "      <th></th>\n",
       "      <th></th>\n",
       "      <th></th>\n",
       "      <th></th>\n",
       "      <th></th>\n",
       "      <th></th>\n",
       "      <th></th>\n",
       "      <th></th>\n",
       "      <th></th>\n",
       "      <th></th>\n",
       "      <th></th>\n",
       "      <th></th>\n",
       "      <th></th>\n",
       "    </tr>\n",
       "  </thead>\n",
       "  <tbody>\n",
       "    <tr>\n",
       "      <th>0</th>\n",
       "      <td>0.0</td>\n",
       "      <td>7.3</td>\n",
       "      <td>0.1</td>\n",
       "      <td>0.3</td>\n",
       "      <td>0.0</td>\n",
       "      <td>0.2</td>\n",
       "      <td>0.0</td>\n",
       "      <td>0.0</td>\n",
       "      <td>0.3</td>\n",
       "      <td>0.0</td>\n",
       "      <td>...</td>\n",
       "      <td>0.0</td>\n",
       "      <td>0.0</td>\n",
       "      <td>0.0</td>\n",
       "      <td>0.0</td>\n",
       "      <td>0.0</td>\n",
       "      <td>1.0</td>\n",
       "      <td>0.0</td>\n",
       "      <td>0.0</td>\n",
       "      <td>0.0</td>\n",
       "      <td>0.0</td>\n",
       "    </tr>\n",
       "    <tr>\n",
       "      <th>1</th>\n",
       "      <td>0.0</td>\n",
       "      <td>14.6</td>\n",
       "      <td>0.0</td>\n",
       "      <td>0.0</td>\n",
       "      <td>0.0</td>\n",
       "      <td>0.0</td>\n",
       "      <td>0.0</td>\n",
       "      <td>0.0</td>\n",
       "      <td>1.0</td>\n",
       "      <td>0.0</td>\n",
       "      <td>...</td>\n",
       "      <td>0.0</td>\n",
       "      <td>0.0</td>\n",
       "      <td>0.0</td>\n",
       "      <td>0.0</td>\n",
       "      <td>0.0</td>\n",
       "      <td>1.0</td>\n",
       "      <td>0.0</td>\n",
       "      <td>0.0</td>\n",
       "      <td>0.0</td>\n",
       "      <td>0.0</td>\n",
       "    </tr>\n",
       "    <tr>\n",
       "      <th>2</th>\n",
       "      <td>0.0</td>\n",
       "      <td>7.0</td>\n",
       "      <td>0.0</td>\n",
       "      <td>0.0</td>\n",
       "      <td>0.0</td>\n",
       "      <td>0.0</td>\n",
       "      <td>0.0</td>\n",
       "      <td>0.0</td>\n",
       "      <td>1.0</td>\n",
       "      <td>0.0</td>\n",
       "      <td>...</td>\n",
       "      <td>0.0</td>\n",
       "      <td>0.0</td>\n",
       "      <td>0.0</td>\n",
       "      <td>0.0</td>\n",
       "      <td>0.0</td>\n",
       "      <td>1.0</td>\n",
       "      <td>0.0</td>\n",
       "      <td>0.0</td>\n",
       "      <td>0.0</td>\n",
       "      <td>0.0</td>\n",
       "    </tr>\n",
       "    <tr>\n",
       "      <th>3</th>\n",
       "      <td>0.1</td>\n",
       "      <td>12.1</td>\n",
       "      <td>0.1</td>\n",
       "      <td>0.4</td>\n",
       "      <td>0.0</td>\n",
       "      <td>0.1</td>\n",
       "      <td>0.1</td>\n",
       "      <td>0.1</td>\n",
       "      <td>0.1</td>\n",
       "      <td>0.0</td>\n",
       "      <td>...</td>\n",
       "      <td>0.0</td>\n",
       "      <td>0.0</td>\n",
       "      <td>0.0</td>\n",
       "      <td>0.0</td>\n",
       "      <td>0.0</td>\n",
       "      <td>1.0</td>\n",
       "      <td>0.0</td>\n",
       "      <td>0.0</td>\n",
       "      <td>0.0</td>\n",
       "      <td>0.0</td>\n",
       "    </tr>\n",
       "  </tbody>\n",
       "</table>\n",
       "<p>4 rows × 104 columns</p>\n",
       "</div>"
      ],
      "text/plain": [
       "          classification  Tenure  owner_name_Analyst_1  owner_name_Analyst_4  \\\n",
       "clusters                                                                       \n",
       "0                    0.0     7.3                   0.1                   0.3   \n",
       "1                    0.0    14.6                   0.0                   0.0   \n",
       "2                    0.0     7.0                   0.0                   0.0   \n",
       "3                    0.1    12.1                   0.1                   0.4   \n",
       "\n",
       "          owner_name_Analyst_5  owner_name_Analyst_6  owner_name_Analyst_7  \\\n",
       "clusters                                                                     \n",
       "0                          0.0                   0.2                   0.0   \n",
       "1                          0.0                   0.0                   0.0   \n",
       "2                          0.0                   0.0                   0.0   \n",
       "3                          0.0                   0.1                   0.1   \n",
       "\n",
       "          owner_name_Analyst_8  owner_name_Senior_Analyst_1  \\\n",
       "clusters                                                      \n",
       "0                          0.0                          0.3   \n",
       "1                          0.0                          1.0   \n",
       "2                          0.0                          1.0   \n",
       "3                          0.1                          0.1   \n",
       "\n",
       "          owner_name_Senior_Analyst_2                   ...                    \\\n",
       "clusters                                                ...                     \n",
       "0                                 0.0                   ...                     \n",
       "1                                 0.0                   ...                     \n",
       "2                                 0.0                   ...                     \n",
       "3                                 0.0                   ...                     \n",
       "\n",
       "          industry_focus_name_BUSINESS_SEGMENT_11  \\\n",
       "clusters                                            \n",
       "0                                             0.0   \n",
       "1                                             0.0   \n",
       "2                                             0.0   \n",
       "3                                             0.0   \n",
       "\n",
       "          industry_focus_name_BUSINESS_SEGMENT_12  \\\n",
       "clusters                                            \n",
       "0                                             0.0   \n",
       "1                                             0.0   \n",
       "2                                             0.0   \n",
       "3                                             0.0   \n",
       "\n",
       "          industry_focus_name_BUSINESS_SEGMENT_15  \\\n",
       "clusters                                            \n",
       "0                                             0.0   \n",
       "1                                             0.0   \n",
       "2                                             0.0   \n",
       "3                                             0.0   \n",
       "\n",
       "          industry_focus_name_BUSINESS_SEGMENT_2  \\\n",
       "clusters                                           \n",
       "0                                            0.0   \n",
       "1                                            0.0   \n",
       "2                                            0.0   \n",
       "3                                            0.0   \n",
       "\n",
       "          industry_focus_name_BUSINESS_SEGMENT_3  \\\n",
       "clusters                                           \n",
       "0                                            0.0   \n",
       "1                                            0.0   \n",
       "2                                            0.0   \n",
       "3                                            0.0   \n",
       "\n",
       "          industry_focus_name_BUSINESS_SEGMENT_4  \\\n",
       "clusters                                           \n",
       "0                                            1.0   \n",
       "1                                            1.0   \n",
       "2                                            1.0   \n",
       "3                                            1.0   \n",
       "\n",
       "          industry_focus_name_BUSINESS_SEGMENT_6  \\\n",
       "clusters                                           \n",
       "0                                            0.0   \n",
       "1                                            0.0   \n",
       "2                                            0.0   \n",
       "3                                            0.0   \n",
       "\n",
       "          industry_focus_name_BUSINESS_SEGMENT_7  \\\n",
       "clusters                                           \n",
       "0                                            0.0   \n",
       "1                                            0.0   \n",
       "2                                            0.0   \n",
       "3                                            0.0   \n",
       "\n",
       "          industry_focus_name_BUSINESS_SEGMENT_8  \\\n",
       "clusters                                           \n",
       "0                                            0.0   \n",
       "1                                            0.0   \n",
       "2                                            0.0   \n",
       "3                                            0.0   \n",
       "\n",
       "          industry_focus_name_BUSINESS_SEGMENT_9  \n",
       "clusters                                          \n",
       "0                                            0.0  \n",
       "1                                            0.0  \n",
       "2                                            0.0  \n",
       "3                                            0.0  \n",
       "\n",
       "[4 rows x 104 columns]"
      ]
     },
     "execution_count": 38,
     "metadata": {},
     "output_type": "execute_result"
    }
   ],
   "source": [
    "kmeans = KMeans(n_clusters=4, random_state=0).fit(data_transformed)\n",
    "labels = kmeans.labels_\n",
    "\n",
    "df_cl2['clusters'] = labels\n",
    "\n",
    "kmeans_mean_cluster = pd.DataFrame(round(df_cl2.groupby('clusters').mean(),1))\n",
    "kmeans_mean_cluster"
   ]
  },
  {
   "cell_type": "code",
   "execution_count": 41,
   "metadata": {},
   "outputs": [
    {
     "name": "stdout",
     "output_type": "stream",
     "text": [
      "<class 'pandas.core.frame.DataFrame'>\n",
      "Int64Index: 92594 entries, 0 to 132082\n",
      "Data columns (total 11 columns):\n",
      "owner_name             92489 non-null object\n",
      "classification         92594 non-null object\n",
      "hru                    92594 non-null object\n",
      "indicator_pairs        92594 non-null object\n",
      "person_type            92594 non-null object\n",
      "person_status          92594 non-null object\n",
      "function_group         91856 non-null object\n",
      "job_function           92594 non-null object\n",
      "career_band            92594 non-null object\n",
      "industry_focus_name    92594 non-null object\n",
      "Tenure                 92594 non-null int32\n",
      "dtypes: int32(1), object(10)\n",
      "memory usage: 8.1+ MB\n"
     ]
    }
   ],
   "source": [
    "df.info()"
   ]
  },
  {
   "cell_type": "code",
   "execution_count": 48,
   "metadata": {
    "collapsed": true
   },
   "outputs": [],
   "source": [
    "dfcor = pd.DataFrame(df)\n",
    "dfcor['owner_name'] =dfcor['owner_name'].astype('category').cat.codes\n",
    "dfcor['hru'] =dfcor['hru'].astype('category').cat.codes\n",
    "dfcor['indicator_pairs'] =dfcor['indicator_pairs'].astype('category').cat.codes\n",
    "dfcor['person_type'] =dfcor['person_type'].astype('category').cat.codes\n",
    "dfcor['person_status'] =dfcor['person_status'].astype('category').cat.codes\n",
    "dfcor['function_group'] =dfcor['function_group'].astype('category').cat.codes\n",
    "dfcor['job_function'] =dfcor['job_function'].astype('category').cat.codes\n",
    "dfcor['career_band'] =dfcor['career_band'].astype('category').cat.codes\n",
    "dfcor['industry_focus_name'] =dfcor['industry_focus_name'].astype('category').cat.codes\n",
    "dfcor['classification'] =dfcor['classification'].astype('category').cat.codes"
   ]
  },
  {
   "cell_type": "code",
   "execution_count": 52,
   "metadata": {},
   "outputs": [
    {
     "data": {
      "text/plain": [
       "owner_name            -0.588834\n",
       "classification         1.000000\n",
       "hru                    0.300345\n",
       "indicator_pairs       -0.612988\n",
       "person_type           -0.115224\n",
       "person_status          0.167725\n",
       "function_group        -0.231153\n",
       "job_function          -0.416608\n",
       "career_band           -0.058345\n",
       "industry_focus_name   -0.054029\n",
       "Tenure                 0.026826\n",
       "Name: classification, dtype: float64"
      ]
     },
     "execution_count": 52,
     "metadata": {},
     "output_type": "execute_result"
    }
   ],
   "source": [
    "dfcor[dfcor.columns[:]].corr()['classification'][:]"
   ]
  },
  {
   "cell_type": "code",
   "execution_count": 53,
   "metadata": {
    "collapsed": true
   },
   "outputs": [],
   "source": [
    "df_rf = df.copy()\n",
    "df_rf2 = df.copy()"
   ]
  },
  {
   "cell_type": "code",
   "execution_count": 55,
   "metadata": {},
   "outputs": [
    {
     "data": {
      "text/html": [
       "<div>\n",
       "<style>\n",
       "    .dataframe thead tr:only-child th {\n",
       "        text-align: right;\n",
       "    }\n",
       "\n",
       "    .dataframe thead th {\n",
       "        text-align: left;\n",
       "    }\n",
       "\n",
       "    .dataframe tbody tr th {\n",
       "        vertical-align: top;\n",
       "    }\n",
       "</style>\n",
       "<table border=\"1\" class=\"dataframe\">\n",
       "  <thead>\n",
       "    <tr style=\"text-align: right;\">\n",
       "      <th></th>\n",
       "      <th>owner_name</th>\n",
       "      <th>classification</th>\n",
       "      <th>hru</th>\n",
       "      <th>indicator_pairs</th>\n",
       "      <th>person_type</th>\n",
       "      <th>person_status</th>\n",
       "      <th>function_group</th>\n",
       "      <th>job_function</th>\n",
       "      <th>career_band</th>\n",
       "      <th>industry_focus_name</th>\n",
       "      <th>Tenure</th>\n",
       "    </tr>\n",
       "  </thead>\n",
       "  <tbody>\n",
       "    <tr>\n",
       "      <th>0</th>\n",
       "      <td>7</td>\n",
       "      <td>1</td>\n",
       "      <td>1</td>\n",
       "      <td>24</td>\n",
       "      <td>1</td>\n",
       "      <td>0</td>\n",
       "      <td>3</td>\n",
       "      <td>18</td>\n",
       "      <td>1</td>\n",
       "      <td>7</td>\n",
       "      <td>14</td>\n",
       "    </tr>\n",
       "    <tr>\n",
       "      <th>1</th>\n",
       "      <td>7</td>\n",
       "      <td>1</td>\n",
       "      <td>1</td>\n",
       "      <td>24</td>\n",
       "      <td>1</td>\n",
       "      <td>0</td>\n",
       "      <td>3</td>\n",
       "      <td>18</td>\n",
       "      <td>1</td>\n",
       "      <td>7</td>\n",
       "      <td>14</td>\n",
       "    </tr>\n",
       "    <tr>\n",
       "      <th>2</th>\n",
       "      <td>7</td>\n",
       "      <td>1</td>\n",
       "      <td>1</td>\n",
       "      <td>24</td>\n",
       "      <td>1</td>\n",
       "      <td>0</td>\n",
       "      <td>3</td>\n",
       "      <td>18</td>\n",
       "      <td>1</td>\n",
       "      <td>7</td>\n",
       "      <td>14</td>\n",
       "    </tr>\n",
       "    <tr>\n",
       "      <th>3</th>\n",
       "      <td>7</td>\n",
       "      <td>1</td>\n",
       "      <td>1</td>\n",
       "      <td>24</td>\n",
       "      <td>1</td>\n",
       "      <td>0</td>\n",
       "      <td>3</td>\n",
       "      <td>18</td>\n",
       "      <td>1</td>\n",
       "      <td>7</td>\n",
       "      <td>14</td>\n",
       "    </tr>\n",
       "    <tr>\n",
       "      <th>4</th>\n",
       "      <td>7</td>\n",
       "      <td>1</td>\n",
       "      <td>1</td>\n",
       "      <td>24</td>\n",
       "      <td>1</td>\n",
       "      <td>0</td>\n",
       "      <td>3</td>\n",
       "      <td>18</td>\n",
       "      <td>1</td>\n",
       "      <td>7</td>\n",
       "      <td>14</td>\n",
       "    </tr>\n",
       "  </tbody>\n",
       "</table>\n",
       "</div>"
      ],
      "text/plain": [
       "   owner_name  classification  hru  indicator_pairs  person_type  \\\n",
       "0           7               1    1               24            1   \n",
       "1           7               1    1               24            1   \n",
       "2           7               1    1               24            1   \n",
       "3           7               1    1               24            1   \n",
       "4           7               1    1               24            1   \n",
       "\n",
       "   person_status  function_group  job_function  career_band  \\\n",
       "0              0               3            18            1   \n",
       "1              0               3            18            1   \n",
       "2              0               3            18            1   \n",
       "3              0               3            18            1   \n",
       "4              0               3            18            1   \n",
       "\n",
       "   industry_focus_name  Tenure  \n",
       "0                    7      14  \n",
       "1                    7      14  \n",
       "2                    7      14  \n",
       "3                    7      14  \n",
       "4                    7      14  "
      ]
     },
     "execution_count": 55,
     "metadata": {},
     "output_type": "execute_result"
    }
   ],
   "source": [
    "df_rf.head()"
   ]
  },
  {
   "cell_type": "code",
   "execution_count": 58,
   "metadata": {},
   "outputs": [
    {
     "ename": "NameError",
     "evalue": "name 'df_rfc' is not defined",
     "output_type": "error",
     "traceback": [
      "\u001b[1;31m---------------------------------------------------------------------------\u001b[0m",
      "\u001b[1;31mNameError\u001b[0m                                 Traceback (most recent call last)",
      "\u001b[1;32m<ipython-input-58-1eb2eac12bed>\u001b[0m in \u001b[0;36m<module>\u001b[1;34m()\u001b[0m\n\u001b[0;32m      3\u001b[0m \u001b[1;31m#split dataset in features and target variable\u001b[0m\u001b[1;33m\u001b[0m\u001b[1;33m\u001b[0m\u001b[0m\n\u001b[0;32m      4\u001b[0m \u001b[0mfeature_cols\u001b[0m \u001b[1;33m=\u001b[0m \u001b[1;33m[\u001b[0m\u001b[1;34m'score'\u001b[0m\u001b[1;33m,\u001b[0m \u001b[1;34m'owner_name'\u001b[0m\u001b[1;33m,\u001b[0m \u001b[1;34m'hru'\u001b[0m\u001b[1;33m,\u001b[0m \u001b[1;34m'person_type'\u001b[0m\u001b[1;33m,\u001b[0m \u001b[1;34m'person_status'\u001b[0m\u001b[1;33m,\u001b[0m \u001b[1;34m'alert_type'\u001b[0m\u001b[1;33m,\u001b[0m \u001b[1;34m'risk_factor'\u001b[0m\u001b[1;33m,\u001b[0m \u001b[1;34m'Tenure'\u001b[0m\u001b[1;33m,\u001b[0m \u001b[1;34m'indicator_pairs'\u001b[0m\u001b[1;33m,\u001b[0m \u001b[1;34m'1'\u001b[0m\u001b[1;33m,\u001b[0m \u001b[1;34m'2'\u001b[0m\u001b[1;33m,\u001b[0m \u001b[1;34m'3'\u001b[0m\u001b[1;33m,\u001b[0m \u001b[1;34m'4'\u001b[0m\u001b[1;33m,\u001b[0m \u001b[1;34m'5'\u001b[0m\u001b[1;33m,\u001b[0m \u001b[1;34m'6'\u001b[0m\u001b[1;33m,\u001b[0m \u001b[1;34m'7'\u001b[0m\u001b[1;33m,\u001b[0m \u001b[1;34m'8'\u001b[0m\u001b[1;33m,\u001b[0m \u001b[1;34m'9'\u001b[0m\u001b[1;33m,\u001b[0m \u001b[1;34m'10'\u001b[0m\u001b[1;33m,\u001b[0m \u001b[1;34m'11'\u001b[0m\u001b[1;33m,\u001b[0m \u001b[1;34m'12'\u001b[0m\u001b[1;33m,\u001b[0m \u001b[1;34m'13'\u001b[0m\u001b[1;33m,\u001b[0m \u001b[1;34m'14'\u001b[0m\u001b[1;33m,\u001b[0m \u001b[1;34m'15'\u001b[0m\u001b[1;33m,\u001b[0m \u001b[1;34m'16'\u001b[0m\u001b[1;33m,\u001b[0m \u001b[1;34m'17'\u001b[0m\u001b[1;33m,\u001b[0m \u001b[1;34m'18'\u001b[0m\u001b[1;33m,\u001b[0m \u001b[1;34m'19'\u001b[0m\u001b[1;33m,\u001b[0m \u001b[1;34m'20'\u001b[0m\u001b[1;33m,\u001b[0m \u001b[1;34m'21'\u001b[0m\u001b[1;33m]\u001b[0m\u001b[1;33m\u001b[0m\u001b[0m\n\u001b[1;32m----> 5\u001b[1;33m \u001b[0mX1\u001b[0m \u001b[1;33m=\u001b[0m \u001b[0mdf_rfc\u001b[0m\u001b[1;33m[\u001b[0m\u001b[0mfeature_cols\u001b[0m\u001b[1;33m]\u001b[0m \u001b[1;31m# Features\u001b[0m\u001b[1;33m\u001b[0m\u001b[0m\n\u001b[0m\u001b[0;32m      6\u001b[0m \u001b[0my1\u001b[0m \u001b[1;33m=\u001b[0m \u001b[0mdf_rfc\u001b[0m\u001b[1;33m.\u001b[0m\u001b[0mclassification\u001b[0m \u001b[1;31m#Target Variable\u001b[0m\u001b[1;33m\u001b[0m\u001b[0m\n\u001b[0;32m      7\u001b[0m \u001b[1;33m\u001b[0m\u001b[0m\n",
      "\u001b[1;31mNameError\u001b[0m: name 'df_rfc' is not defined"
     ]
    }
   ],
   "source": [
    "#Using Indicators as well\n",
    "\n",
    "#split dataset in features and target variable\n",
    "feature_cols = ['score', 'owner_name', 'hru', 'person_type', 'person_status', 'alert_type', 'risk_factor', 'Tenure', 'indicator_pairs', '1', '2', '3', '4', '5', '6', '7', '8', '9', '10', '11', '12', '13', '14', '15', '16', '17', '18', '19', '20', '21']\n",
    "X1 = df_rfc[feature_cols] # Features\n",
    "y1 = df_rfc.classification #Target Variable\n",
    "\n",
    "#One-hot Encoding\n",
    "X1 = pd.get_dummies(X1)\n",
    "\n",
    "#Splitting into training and testing sets\n",
    "X_train1,X_test1,y_train1,y_test1 = train_test_split(X1,y1,test_size=0.25,random_state=0)\n",
    "\n",
    "#Training the Algorithm\n",
    "classifier1 = RandomForestClassifier(n_estimators=20, random_state=0)\n",
    "classifier1.fit(X_train1, y_train1)\n",
    "y_pred1 = classifier1.predict(X_test1)\n",
    "\n",
    "print(confusion_matrix(y_test1,y_pred1))\n",
    "print(classification_report(y_test1,y_pred1))\n",
    "print(accuracy_score(y_test1, y_pred1))"
   ]
  },
  {
   "cell_type": "code",
   "execution_count": null,
   "metadata": {
    "collapsed": true
   },
   "outputs": [],
   "source": []
  }
 ],
 "metadata": {
  "kernelspec": {
   "display_name": "Python 3",
   "language": "python",
   "name": "python3"
  },
  "language_info": {
   "codemirror_mode": {
    "name": "ipython",
    "version": 3
   },
   "file_extension": ".py",
   "mimetype": "text/x-python",
   "name": "python",
   "nbconvert_exporter": "python",
   "pygments_lexer": "ipython3",
   "version": "3.6.3"
  }
 },
 "nbformat": 4,
 "nbformat_minor": 2
}
